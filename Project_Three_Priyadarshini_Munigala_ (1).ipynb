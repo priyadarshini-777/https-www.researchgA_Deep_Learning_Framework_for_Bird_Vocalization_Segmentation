{
  "cells": [
    {
      "cell_type": "markdown",
      "metadata": {
        "id": "kJS1IWazfewc"
      },
      "source": [
        "# 1. Build an image segmentation model using pytorch"
      ]
    },
    {
      "cell_type": "code",
      "execution_count": null,
      "metadata": {
        "colab": {
          "base_uri": "https://localhost:8080/"
        },
        "id": "WLidLMVsWuIl",
        "outputId": "4de8ee8a-8f9f-4fb6-8538-959ffa2c1afc"
      },
      "outputs": [
        {
          "output_type": "stream",
          "name": "stdout",
          "text": [
            "Mounted at /content/drive\n"
          ]
        }
      ],
      "source": [
        "from google.colab import drive\n",
        "drive.mount('/content/drive')"
      ]
    },
    {
      "cell_type": "code",
      "execution_count": null,
      "metadata": {
        "id": "R2eOpxo1WlJH"
      },
      "outputs": [],
      "source": [
        "import torch\n",
        "import torch.nn as nn\n",
        "import torch.optim as optim\n",
        "from torch.utils.data import DataLoader, Dataset\n",
        "import torchvision.transforms as T\n",
        "from PIL import Image\n",
        "import os\n",
        "from tqdm import tqdm\n",
        "import matplotlib.pyplot as plt\n",
        "from google.colab import drive"
      ]
    },
    {
      "cell_type": "code",
      "execution_count": null,
      "metadata": {
        "id": "xcLlwB2RW8ts"
      },
      "outputs": [],
      "source": [
        "class BirdSoundsDataset(Dataset):\n",
        "    def __init__(self, root, transforms=None):\n",
        "        self.root = root\n",
        "        self.transforms = transforms\n",
        "        self.image_paths = sorted([os.path.join(root, 'images', img) for img in os.listdir(os.path.join(root, 'images'))])\n",
        "        self.mask_paths = sorted([os.path.join(root, 'masks', img) for img in os.listdir(os.path.join(root, 'masks'))])\n",
        "\n",
        "    def __len__(self):\n",
        "        return len(self.image_paths)\n",
        "\n",
        "    def __getitem__(self, idx):\n",
        "        image = Image.open(self.image_paths[idx]).convert('RGB')\n",
        "        mask = Image.open(self.mask_paths[idx]).convert('L')\n",
        "        if self.transforms:\n",
        "            image = self.transforms(image)\n",
        "            mask = self.transforms(mask)\n",
        "        return image, mask\n",
        "\n",
        "# Data transformations\n",
        "transform = T.Compose([\n",
        "    T.Resize((256, 256)),\n",
        "    T.ToTensor(),\n",
        "])\n",
        "\n",
        "\n",
        "transform = T.Compose([\n",
        "    T.Resize((256, 256)),\n",
        "    T.ToTensor(),\n",
        "])\n",
        "\n",
        "train_dataset = BirdSoundsDataset(root='/content/drive/MyDrive/new_dataset/train', transforms=transform)\n",
        "train_loader = DataLoader(train_dataset, batch_size=8, shuffle=True)\n",
        "\n",
        "val_dataset = BirdSoundsDataset(root='/content/drive/MyDrive/new_dataset/valid', transforms=transform)\n",
        "val_loader = DataLoader(val_dataset, batch_size=8, shuffle=False)\n",
        "\n",
        "test_dataset = BirdSoundsDataset(root='/content/drive/MyDrive/new_dataset/test', transforms=transform)\n",
        "test_loader = DataLoader(test_dataset, batch_size=8, shuffle=False)"
      ]
    },
    {
      "cell_type": "code",
      "execution_count": null,
      "metadata": {
        "id": "xQn0IHCbfEd8"
      },
      "outputs": [],
      "source": [
        "import torch\n",
        "import torch.nn as nn\n",
        "\n",
        "class UNet(nn.Module):\n",
        "    def __init__(self):\n",
        "        super(UNet, self).__init__()\n",
        "\n",
        "        # Encoder\n",
        "        self.encoder1 = self.conv_block(3, 64)\n",
        "        self.encoder2 = self.conv_block(64, 128)\n",
        "        self.encoder3 = self.conv_block(128, 256)\n",
        "        self.encoder4 = self.conv_block(256, 512)\n",
        "\n",
        "        # Pooling\n",
        "        self.pool = nn.MaxPool2d(2)\n",
        "\n",
        "        # Decoder\n",
        "        self.upconv4 = self.upconv_block(512, 256)\n",
        "        self.upconv3 = self.upconv_block(512, 128)\n",
        "        self.upconv2 = self.upconv_block(256, 64)\n",
        "        self.upconv1 = self.upconv_block(128, 64)\n",
        "        # Final Convolution\n",
        "        self.final_conv = nn.Conv2d(64, 1, kernel_size=1)\n",
        "\n",
        "    def conv_block(self, in_channels, out_channels):\n",
        "        return nn.Sequential(\n",
        "            nn.Conv2d(in_channels, out_channels, kernel_size=3, padding=1),\n",
        "            nn.ReLU(inplace=True),\n",
        "            nn.Conv2d(out_channels, out_channels, kernel_size=3, padding=1),\n",
        "            nn.ReLU(inplace=True)\n",
        "        )\n",
        "\n",
        "    def upconv_block(self, in_channels, out_channels):\n",
        "        return nn.Sequential(\n",
        "            nn.ConvTranspose2d(in_channels, out_channels, kernel_size=2, stride=2),\n",
        "            nn.ReLU(inplace=True)\n",
        "        )\n",
        "\n",
        "    def forward(self, x):\n",
        "        # Encoding path\n",
        "        enc1 = self.encoder1(x)\n",
        "        enc2 = self.encoder2(self.pool(enc1))\n",
        "        enc3 = self.encoder3(self.pool(enc2))\n",
        "        enc4 = self.encoder4(self.pool(enc3))\n",
        "\n",
        "        # Decoding path\n",
        "        dec4 = self.upconv4(enc4)\n",
        "        dec4 = torch.cat((dec4, enc3), dim=1)\n",
        "\n",
        "        dec3 = self.upconv3(dec4)\n",
        "        dec3 = torch.cat((dec3, enc2), dim=1)\n",
        "\n",
        "        dec2 = self.upconv2(dec3)\n",
        "        dec2 = torch.cat((dec2, enc1), dim=1)\n",
        "\n",
        "        dec1 = self.upconv1(dec2)\n",
        "\n",
        "        output = self.final_conv(dec1)\n",
        "        return torch.sigmoid(output)\n"
      ]
    },
    {
      "cell_type": "markdown",
      "metadata": {
        "id": "zavKw8-Xfewh"
      },
      "source": [
        "# 2. Train your model using [Bird sound datasets](https://yuad-my.sharepoint.com/personal/youshan_zhang_yu_edu/_layouts/15/onedrive.aspx?id=%2Fpersonal%2Fyoushan%5Fzhang%5Fyu%5Fedu%2FDocuments%2FBird%5FSound%5FDataset&ga=1)\n",
        "\n"
      ]
    },
    {
      "cell_type": "code",
      "execution_count": null,
      "metadata": {
        "id": "5zegMnzQfFD6"
      },
      "outputs": [],
      "source": [
        "device = torch.device('cuda' if torch.cuda.is_available() else 'cpu')"
      ]
    },
    {
      "cell_type": "code",
      "execution_count": null,
      "metadata": {
        "id": "3gZcyLIufiLN"
      },
      "outputs": [],
      "source": [
        "# Initialize model, criterion, and optimizer\n",
        "model = UNet().to(device)\n",
        "criterion = nn.BCELoss()\n",
        "optimizer = optim.Adam(model.parameters(), lr=0.001)"
      ]
    },
    {
      "cell_type": "code",
      "execution_count": null,
      "metadata": {
        "colab": {
          "base_uri": "https://localhost:8080/"
        },
        "id": "ENvsbwg0fjCu",
        "outputId": "eeaeb588-c53a-4cbd-b3c0-918fba996e6c"
      },
      "outputs": [
        {
          "name": "stderr",
          "output_type": "stream",
          "text": [
            "Training Epoch 1/35: 100%|██████████| 125/125 [01:22<00:00,  1.52it/s, Loss=0.136]\n",
            "Validation Epoch 1/35: 100%|██████████| 25/25 [00:15<00:00,  1.60it/s, Loss=0.103]\n"
          ]
        },
        {
          "name": "stdout",
          "output_type": "stream",
          "text": [
            "Epoch 1/35, Train Loss: 0.2064, Val Loss: 0.1127\n",
            "Saved Best Model with Val Loss: 0.1127\n"
          ]
        },
        {
          "name": "stderr",
          "output_type": "stream",
          "text": [
            "Training Epoch 2/35: 100%|██████████| 125/125 [01:21<00:00,  1.53it/s, Loss=0.0973]\n",
            "Validation Epoch 2/35: 100%|██████████| 25/25 [00:15<00:00,  1.60it/s, Loss=0.0723]\n"
          ]
        },
        {
          "name": "stdout",
          "output_type": "stream",
          "text": [
            "Epoch 2/35, Train Loss: 0.1117, Val Loss: 0.0901\n",
            "Saved Best Model with Val Loss: 0.0901\n"
          ]
        },
        {
          "name": "stderr",
          "output_type": "stream",
          "text": [
            "Training Epoch 3/35: 100%|██████████| 125/125 [01:21<00:00,  1.53it/s, Loss=0.0765]\n",
            "Validation Epoch 3/35: 100%|██████████| 25/25 [00:15<00:00,  1.60it/s, Loss=0.0612]\n"
          ]
        },
        {
          "name": "stdout",
          "output_type": "stream",
          "text": [
            "Epoch 3/35, Train Loss: 0.0935, Val Loss: 0.0795\n",
            "Saved Best Model with Val Loss: 0.0795\n"
          ]
        },
        {
          "name": "stderr",
          "output_type": "stream",
          "text": [
            "Training Epoch 4/35: 100%|██████████| 125/125 [01:21<00:00,  1.53it/s, Loss=0.083]\n",
            "Validation Epoch 4/35: 100%|██████████| 25/25 [00:15<00:00,  1.61it/s, Loss=0.0636]\n"
          ]
        },
        {
          "name": "stdout",
          "output_type": "stream",
          "text": [
            "Epoch 4/35, Train Loss: 0.0919, Val Loss: 0.0803\n"
          ]
        },
        {
          "name": "stderr",
          "output_type": "stream",
          "text": [
            "Training Epoch 5/35: 100%|██████████| 125/125 [01:21<00:00,  1.53it/s, Loss=0.109]\n",
            "Validation Epoch 5/35: 100%|██████████| 25/25 [00:15<00:00,  1.61it/s, Loss=0.0584]\n"
          ]
        },
        {
          "name": "stdout",
          "output_type": "stream",
          "text": [
            "Epoch 5/35, Train Loss: 0.0891, Val Loss: 0.0753\n",
            "Saved Best Model with Val Loss: 0.0753\n"
          ]
        },
        {
          "name": "stderr",
          "output_type": "stream",
          "text": [
            "Training Epoch 6/35: 100%|██████████| 125/125 [01:21<00:00,  1.54it/s, Loss=0.081]\n",
            "Validation Epoch 6/35: 100%|██████████| 25/25 [00:15<00:00,  1.60it/s, Loss=0.062]\n"
          ]
        },
        {
          "name": "stdout",
          "output_type": "stream",
          "text": [
            "Epoch 6/35, Train Loss: 0.0839, Val Loss: 0.0801\n"
          ]
        },
        {
          "name": "stderr",
          "output_type": "stream",
          "text": [
            "Training Epoch 7/35: 100%|██████████| 125/125 [01:21<00:00,  1.53it/s, Loss=0.0865]\n",
            "Validation Epoch 7/35: 100%|██████████| 25/25 [00:15<00:00,  1.60it/s, Loss=0.051]\n"
          ]
        },
        {
          "name": "stdout",
          "output_type": "stream",
          "text": [
            "Epoch 7/35, Train Loss: 0.0813, Val Loss: 0.0744\n",
            "Saved Best Model with Val Loss: 0.0744\n"
          ]
        },
        {
          "name": "stderr",
          "output_type": "stream",
          "text": [
            "Training Epoch 8/35: 100%|██████████| 125/125 [01:21<00:00,  1.53it/s, Loss=0.0951]\n",
            "Validation Epoch 8/35: 100%|██████████| 25/25 [00:15<00:00,  1.60it/s, Loss=0.0555]\n"
          ]
        },
        {
          "name": "stdout",
          "output_type": "stream",
          "text": [
            "Epoch 8/35, Train Loss: 0.0792, Val Loss: 0.0753\n"
          ]
        },
        {
          "name": "stderr",
          "output_type": "stream",
          "text": [
            "Training Epoch 9/35: 100%|██████████| 125/125 [01:21<00:00,  1.53it/s, Loss=0.068]\n",
            "Validation Epoch 9/35: 100%|██████████| 25/25 [00:15<00:00,  1.60it/s, Loss=0.049]\n"
          ]
        },
        {
          "name": "stdout",
          "output_type": "stream",
          "text": [
            "Epoch 9/35, Train Loss: 0.0794, Val Loss: 0.0696\n",
            "Saved Best Model with Val Loss: 0.0696\n"
          ]
        },
        {
          "name": "stderr",
          "output_type": "stream",
          "text": [
            "Training Epoch 10/35: 100%|██████████| 125/125 [01:21<00:00,  1.53it/s, Loss=0.079]\n",
            "Validation Epoch 10/35: 100%|██████████| 25/25 [00:15<00:00,  1.60it/s, Loss=0.0521]\n"
          ]
        },
        {
          "name": "stdout",
          "output_type": "stream",
          "text": [
            "Epoch 10/35, Train Loss: 0.0788, Val Loss: 0.0702\n"
          ]
        },
        {
          "name": "stderr",
          "output_type": "stream",
          "text": [
            "Training Epoch 11/35: 100%|██████████| 125/125 [01:21<00:00,  1.54it/s, Loss=0.0504]\n",
            "Validation Epoch 11/35: 100%|██████████| 25/25 [00:15<00:00,  1.61it/s, Loss=0.0524]\n"
          ]
        },
        {
          "name": "stdout",
          "output_type": "stream",
          "text": [
            "Epoch 11/35, Train Loss: 0.0763, Val Loss: 0.0720\n"
          ]
        },
        {
          "name": "stderr",
          "output_type": "stream",
          "text": [
            "Training Epoch 12/35: 100%|██████████| 125/125 [01:21<00:00,  1.53it/s, Loss=0.0878]\n",
            "Validation Epoch 12/35: 100%|██████████| 25/25 [00:15<00:00,  1.61it/s, Loss=0.0489]\n"
          ]
        },
        {
          "name": "stdout",
          "output_type": "stream",
          "text": [
            "Epoch 12/35, Train Loss: 0.0746, Val Loss: 0.0692\n",
            "Saved Best Model with Val Loss: 0.0692\n"
          ]
        },
        {
          "name": "stderr",
          "output_type": "stream",
          "text": [
            "Training Epoch 13/35: 100%|██████████| 125/125 [01:21<00:00,  1.53it/s, Loss=0.081]\n",
            "Validation Epoch 13/35: 100%|██████████| 25/25 [00:15<00:00,  1.59it/s, Loss=0.0509]\n"
          ]
        },
        {
          "name": "stdout",
          "output_type": "stream",
          "text": [
            "Epoch 13/35, Train Loss: 0.0736, Val Loss: 0.0702\n"
          ]
        },
        {
          "name": "stderr",
          "output_type": "stream",
          "text": [
            "Training Epoch 14/35: 100%|██████████| 125/125 [01:21<00:00,  1.53it/s, Loss=0.0725]\n",
            "Validation Epoch 14/35: 100%|██████████| 25/25 [00:15<00:00,  1.61it/s, Loss=0.0524]\n"
          ]
        },
        {
          "name": "stdout",
          "output_type": "stream",
          "text": [
            "Epoch 14/35, Train Loss: 0.0715, Val Loss: 0.0766\n"
          ]
        },
        {
          "name": "stderr",
          "output_type": "stream",
          "text": [
            "Training Epoch 15/35: 100%|██████████| 125/125 [01:21<00:00,  1.53it/s, Loss=0.0934]\n",
            "Validation Epoch 15/35: 100%|██████████| 25/25 [00:15<00:00,  1.61it/s, Loss=0.052]\n"
          ]
        },
        {
          "name": "stdout",
          "output_type": "stream",
          "text": [
            "Epoch 15/35, Train Loss: 0.0698, Val Loss: 0.0694\n"
          ]
        },
        {
          "name": "stderr",
          "output_type": "stream",
          "text": [
            "Training Epoch 16/35: 100%|██████████| 125/125 [01:21<00:00,  1.53it/s, Loss=0.0831]\n",
            "Validation Epoch 16/35: 100%|██████████| 25/25 [00:15<00:00,  1.62it/s, Loss=0.0521]\n"
          ]
        },
        {
          "name": "stdout",
          "output_type": "stream",
          "text": [
            "Epoch 16/35, Train Loss: 0.0704, Val Loss: 0.0715\n"
          ]
        },
        {
          "name": "stderr",
          "output_type": "stream",
          "text": [
            "Training Epoch 17/35: 100%|██████████| 125/125 [01:21<00:00,  1.53it/s, Loss=0.0809]\n",
            "Validation Epoch 17/35: 100%|██████████| 25/25 [00:15<00:00,  1.62it/s, Loss=0.0499]\n"
          ]
        },
        {
          "name": "stdout",
          "output_type": "stream",
          "text": [
            "Epoch 17/35, Train Loss: 0.0704, Val Loss: 0.0693\n"
          ]
        },
        {
          "name": "stderr",
          "output_type": "stream",
          "text": [
            "Training Epoch 18/35: 100%|██████████| 125/125 [01:21<00:00,  1.53it/s, Loss=0.0426]\n",
            "Validation Epoch 18/35: 100%|██████████| 25/25 [00:15<00:00,  1.61it/s, Loss=0.0515]\n"
          ]
        },
        {
          "name": "stdout",
          "output_type": "stream",
          "text": [
            "Epoch 18/35, Train Loss: 0.0690, Val Loss: 0.0779\n"
          ]
        },
        {
          "name": "stderr",
          "output_type": "stream",
          "text": [
            "Training Epoch 19/35: 100%|██████████| 125/125 [01:21<00:00,  1.53it/s, Loss=0.112]\n",
            "Validation Epoch 19/35: 100%|██████████| 25/25 [00:15<00:00,  1.61it/s, Loss=0.0492]\n"
          ]
        },
        {
          "name": "stdout",
          "output_type": "stream",
          "text": [
            "Epoch 19/35, Train Loss: 0.0671, Val Loss: 0.0698\n"
          ]
        },
        {
          "name": "stderr",
          "output_type": "stream",
          "text": [
            "Training Epoch 20/35: 100%|██████████| 125/125 [01:21<00:00,  1.53it/s, Loss=0.0409]\n",
            "Validation Epoch 20/35: 100%|██████████| 25/25 [00:15<00:00,  1.59it/s, Loss=0.0511]\n"
          ]
        },
        {
          "name": "stdout",
          "output_type": "stream",
          "text": [
            "Epoch 20/35, Train Loss: 0.0660, Val Loss: 0.0716\n"
          ]
        },
        {
          "name": "stderr",
          "output_type": "stream",
          "text": [
            "Training Epoch 21/35: 100%|██████████| 125/125 [01:21<00:00,  1.53it/s, Loss=0.0581]\n",
            "Validation Epoch 21/35: 100%|██████████| 25/25 [00:15<00:00,  1.61it/s, Loss=0.0497]\n"
          ]
        },
        {
          "name": "stdout",
          "output_type": "stream",
          "text": [
            "Epoch 21/35, Train Loss: 0.0663, Val Loss: 0.0699\n"
          ]
        },
        {
          "name": "stderr",
          "output_type": "stream",
          "text": [
            "Training Epoch 22/35: 100%|██████████| 125/125 [01:21<00:00,  1.53it/s, Loss=0.0696]\n",
            "Validation Epoch 22/35: 100%|██████████| 25/25 [00:15<00:00,  1.61it/s, Loss=0.047]\n"
          ]
        },
        {
          "name": "stdout",
          "output_type": "stream",
          "text": [
            "Epoch 22/35, Train Loss: 0.0655, Val Loss: 0.0680\n",
            "Saved Best Model with Val Loss: 0.0680\n"
          ]
        },
        {
          "name": "stderr",
          "output_type": "stream",
          "text": [
            "Training Epoch 23/35: 100%|██████████| 125/125 [01:21<00:00,  1.53it/s, Loss=0.0603]\n",
            "Validation Epoch 23/35: 100%|██████████| 25/25 [00:15<00:00,  1.61it/s, Loss=0.0496]\n"
          ]
        },
        {
          "name": "stdout",
          "output_type": "stream",
          "text": [
            "Epoch 23/35, Train Loss: 0.0635, Val Loss: 0.0712\n"
          ]
        },
        {
          "name": "stderr",
          "output_type": "stream",
          "text": [
            "Training Epoch 24/35: 100%|██████████| 125/125 [01:21<00:00,  1.53it/s, Loss=0.0814]\n",
            "Validation Epoch 24/35: 100%|██████████| 25/25 [00:15<00:00,  1.60it/s, Loss=0.0484]\n"
          ]
        },
        {
          "name": "stdout",
          "output_type": "stream",
          "text": [
            "Epoch 24/35, Train Loss: 0.0636, Val Loss: 0.0684\n"
          ]
        },
        {
          "name": "stderr",
          "output_type": "stream",
          "text": [
            "Training Epoch 25/35: 100%|██████████| 125/125 [01:21<00:00,  1.54it/s, Loss=0.0474]\n",
            "Validation Epoch 25/35: 100%|██████████| 25/25 [00:15<00:00,  1.60it/s, Loss=0.0472]\n"
          ]
        },
        {
          "name": "stdout",
          "output_type": "stream",
          "text": [
            "Epoch 25/35, Train Loss: 0.0604, Val Loss: 0.0735\n"
          ]
        },
        {
          "name": "stderr",
          "output_type": "stream",
          "text": [
            "Training Epoch 26/35: 100%|██████████| 125/125 [01:21<00:00,  1.53it/s, Loss=0.0632]\n",
            "Validation Epoch 26/35: 100%|██████████| 25/25 [00:15<00:00,  1.61it/s, Loss=0.0497]\n"
          ]
        },
        {
          "name": "stdout",
          "output_type": "stream",
          "text": [
            "Epoch 26/35, Train Loss: 0.0599, Val Loss: 0.0698\n"
          ]
        },
        {
          "name": "stderr",
          "output_type": "stream",
          "text": [
            "Training Epoch 27/35: 100%|██████████| 125/125 [01:21<00:00,  1.53it/s, Loss=0.0557]\n",
            "Validation Epoch 27/35: 100%|██████████| 25/25 [00:15<00:00,  1.60it/s, Loss=0.0479]\n"
          ]
        },
        {
          "name": "stdout",
          "output_type": "stream",
          "text": [
            "Epoch 27/35, Train Loss: 0.0598, Val Loss: 0.0684\n"
          ]
        },
        {
          "name": "stderr",
          "output_type": "stream",
          "text": [
            "Training Epoch 28/35: 100%|██████████| 125/125 [01:21<00:00,  1.54it/s, Loss=0.0594]\n",
            "Validation Epoch 28/35: 100%|██████████| 25/25 [00:15<00:00,  1.61it/s, Loss=0.0472]\n"
          ]
        },
        {
          "name": "stdout",
          "output_type": "stream",
          "text": [
            "Epoch 28/35, Train Loss: 0.0578, Val Loss: 0.0757\n"
          ]
        },
        {
          "name": "stderr",
          "output_type": "stream",
          "text": [
            "Training Epoch 29/35: 100%|██████████| 125/125 [01:22<00:00,  1.52it/s, Loss=0.0471]\n",
            "Validation Epoch 29/35: 100%|██████████| 25/25 [00:15<00:00,  1.60it/s, Loss=0.0498]\n"
          ]
        },
        {
          "name": "stdout",
          "output_type": "stream",
          "text": [
            "Epoch 29/35, Train Loss: 0.0562, Val Loss: 0.0750\n"
          ]
        },
        {
          "name": "stderr",
          "output_type": "stream",
          "text": [
            "Training Epoch 30/35: 100%|██████████| 125/125 [01:21<00:00,  1.53it/s, Loss=0.0595]\n",
            "Validation Epoch 30/35: 100%|██████████| 25/25 [00:15<00:00,  1.61it/s, Loss=0.0475]\n"
          ]
        },
        {
          "name": "stdout",
          "output_type": "stream",
          "text": [
            "Epoch 30/35, Train Loss: 0.0559, Val Loss: 0.0716\n"
          ]
        },
        {
          "name": "stderr",
          "output_type": "stream",
          "text": [
            "Training Epoch 31/35: 100%|██████████| 125/125 [01:21<00:00,  1.53it/s, Loss=0.0499]\n",
            "Validation Epoch 31/35: 100%|██████████| 25/25 [00:15<00:00,  1.61it/s, Loss=0.0462]\n"
          ]
        },
        {
          "name": "stdout",
          "output_type": "stream",
          "text": [
            "Epoch 31/35, Train Loss: 0.0543, Val Loss: 0.0733\n"
          ]
        },
        {
          "name": "stderr",
          "output_type": "stream",
          "text": [
            "Training Epoch 32/35: 100%|██████████| 125/125 [01:21<00:00,  1.53it/s, Loss=0.0532]\n",
            "Validation Epoch 32/35: 100%|██████████| 25/25 [00:15<00:00,  1.60it/s, Loss=0.0507]\n"
          ]
        },
        {
          "name": "stdout",
          "output_type": "stream",
          "text": [
            "Epoch 32/35, Train Loss: 0.0532, Val Loss: 0.0783\n"
          ]
        },
        {
          "name": "stderr",
          "output_type": "stream",
          "text": [
            "Training Epoch 33/35: 100%|██████████| 125/125 [01:21<00:00,  1.53it/s, Loss=0.0413]\n",
            "Validation Epoch 33/35: 100%|██████████| 25/25 [00:15<00:00,  1.61it/s, Loss=0.0491]\n"
          ]
        },
        {
          "name": "stdout",
          "output_type": "stream",
          "text": [
            "Epoch 33/35, Train Loss: 0.0503, Val Loss: 0.0786\n"
          ]
        },
        {
          "name": "stderr",
          "output_type": "stream",
          "text": [
            "Training Epoch 34/35: 100%|██████████| 125/125 [01:21<00:00,  1.53it/s, Loss=0.0465]\n",
            "Validation Epoch 34/35: 100%|██████████| 25/25 [00:15<00:00,  1.61it/s, Loss=0.0491]\n"
          ]
        },
        {
          "name": "stdout",
          "output_type": "stream",
          "text": [
            "Epoch 34/35, Train Loss: 0.0490, Val Loss: 0.0818\n"
          ]
        },
        {
          "name": "stderr",
          "output_type": "stream",
          "text": [
            "Training Epoch 35/35: 100%|██████████| 125/125 [01:21<00:00,  1.54it/s, Loss=0.0672]\n",
            "Validation Epoch 35/35: 100%|██████████| 25/25 [00:15<00:00,  1.61it/s, Loss=0.0503]"
          ]
        },
        {
          "name": "stdout",
          "output_type": "stream",
          "text": [
            "Epoch 35/35, Train Loss: 0.0490, Val Loss: 0.0828\n"
          ]
        },
        {
          "name": "stderr",
          "output_type": "stream",
          "text": [
            "\n"
          ]
        }
      ],
      "source": [
        "num_epochs = 35\n",
        "best_val_loss = float('inf')\n",
        "\n",
        "train_losses = []\n",
        "val_losses = []\n",
        "\n",
        "# Training loop\n",
        "for epoch in range(num_epochs):\n",
        "    model.train()\n",
        "    running_loss = 0.0\n",
        "\n",
        "    train_pbar = tqdm(enumerate(train_loader), total=len(train_loader), desc=f'Training Epoch {epoch+1}/{num_epochs}')\n",
        "    for batch_idx, (images, masks) in train_pbar:\n",
        "        images, masks = images.to(device), masks.to(device)\n",
        "\n",
        "        optimizer.zero_grad()\n",
        "        outputs = model(images)\n",
        "\n",
        "        # Resize masks to match the output size\n",
        "        masks = nn.functional.interpolate(masks, size=outputs.shape[2:], mode='nearest')\n",
        "\n",
        "        loss = criterion(outputs, masks)\n",
        "        loss.backward()\n",
        "        optimizer.step()\n",
        "\n",
        "        running_loss += loss.item() * images.size(0)\n",
        "        train_pbar.set_postfix({'Loss': loss.item()})\n",
        "\n",
        "    epoch_loss = running_loss / len(train_loader.dataset)\n",
        "    train_losses.append(epoch_loss)\n",
        "\n",
        "    model.eval()\n",
        "    val_loss = 0.0\n",
        "    val_pbar = tqdm(enumerate(val_loader), total=len(val_loader), desc=f'Validation Epoch {epoch+1}/{num_epochs}')\n",
        "    with torch.no_grad():\n",
        "        for batch_idx, (images, masks) in val_pbar:\n",
        "            images, masks = images.to(device), masks.to(device)\n",
        "            outputs = model(images)\n",
        "\n",
        "            # Resize masks to match the output size\n",
        "            masks = nn.functional.interpolate(masks, size=outputs.shape[2:], mode='nearest')\n",
        "\n",
        "            loss = criterion(outputs, masks)\n",
        "            val_loss += loss.item() * images.size(0)\n",
        "            val_pbar.set_postfix({'Loss': loss.item()})\n",
        "\n",
        "    val_loss /= len(val_loader.dataset)\n",
        "    val_losses.append(val_loss)\n",
        "\n",
        "    print(f'Epoch {epoch+1}/{num_epochs}, Train Loss: {epoch_loss:.4f}, Val Loss: {val_loss:.4f}')\n",
        "\n",
        "    if val_loss < best_val_loss:  # Save the model if validation loss decreases\n",
        "        best_val_loss = val_loss\n",
        "        model_save_path = '/content/drive/MyDrive/new_dataset/BirdSoundSeg_model.pth'\n",
        "        torch.save(model.state_dict(), model_save_path)\n",
        "        print(f'Saved Best Model with Val Loss: {best_val_loss:.4f}')"
      ]
    },
    {
      "cell_type": "code",
      "execution_count": null,
      "metadata": {
        "colab": {
          "base_uri": "https://localhost:8080/",
          "height": 487
        },
        "id": "jS4Fm-EWjnzQ",
        "outputId": "4088bb3b-8ea8-4aed-d580-b46c763b445a"
      },
      "outputs": [
        {
          "data": {
            "image/png": "[encoded data removed]",
            "text/plain": [
              "<Figure size 1000x500 with 1 Axes>"
            ]
          },
          "metadata": {},
          "output_type": "display_data"
        }
      ],
      "source": [
        "# Plot the loss\n",
        "epochs = range(1, num_epochs + 1)\n",
        "\n",
        "plt.figure(figsize=(10, 5))\n",
        "plt.plot(epochs, train_losses, 'b', label='Training Loss')\n",
        "plt.plot(epochs, val_losses, 'r', label='Validation Loss')\n",
        "plt.title('Training and Validation Loss')\n",
        "plt.xlabel('Epochs')\n",
        "plt.ylabel('Loss')\n",
        "plt.legend()\n",
        "plt.show()"
      ]
    },
    {
      "cell_type": "markdown",
      "metadata": {
        "id": "3SKFvKJlfewi"
      },
      "source": [
        "# 3.Evaluate your model using the test images"
      ]
    },
    {
      "cell_type": "code",
      "execution_count": null,
      "metadata": {
        "id": "f-gVSbWufewi"
      },
      "outputs": [],
      "source": [
        "# Define the IoU metric\n",
        "def calculate_iou(pred_mask, true_mask, threshold=0.5):\n",
        "    pred_mask = (pred_mask > threshold).float()\n",
        "    true_mask = (true_mask > threshold).float()\n",
        "    intersection = (pred_mask * true_mask).sum(dim=(1, 2, 3))\n",
        "    union = pred_mask.sum(dim=(1, 2, 3)) + true_mask.sum(dim=(1, 2, 3)) - intersection\n",
        "    iou = intersection / (union + 1e-6)\n",
        "    return iou.mean().item()\n",
        "\n",
        "# Data transformations\n",
        "transform = T.Compose([\n",
        "    T.Resize((256, 256)),\n",
        "    T.ToTensor(),\n",
        "])\n",
        "\n",
        "# Device configuration\n",
        "device = torch.device('cuda' if torch.cuda.is_available() else 'cpu')\n",
        "\n",
        "# Path to the saved model\n",
        "model_path = '/content/drive/MyDrive/new_dataset/BirdSoundSeg_model.pth'\n",
        "\n",
        "# Load the test dataset and dataloader\n",
        "test_dataset = BirdSoundsDataset(root='/content/drive/MyDrive/new_dataset/test', transforms=transform)\n",
        "test_loader = DataLoader(test_dataset, batch_size=8, shuffle=False)"
      ]
    },
    {
      "cell_type": "markdown",
      "metadata": {
        "id": "eHDVVXuNfewi"
      },
      "source": [
        "# 4. Your IoU score should be higher than 60"
      ]
    },
    {
      "cell_type": "code",
      "execution_count": null,
      "metadata": {
        "colab": {
          "base_uri": "https://localhost:8080/"
        },
        "id": "8mRON4MHjsqW",
        "outputId": "b1c949f2-8287-46a4-de63-014749242744"
      },
      "outputs": [
        {
          "name": "stderr",
          "output_type": "stream",
          "text": [
            "Testing: 100%|██████████| 38/38 [00:22<00:00,  1.66it/s, IoU=0.506]"
          ]
        },
        {
          "name": "stdout",
          "output_type": "stream",
          "text": [
            "Test IoU: 0.6323\n"
          ]
        },
        {
          "name": "stderr",
          "output_type": "stream",
          "text": [
            "\n"
          ]
        }
      ],
      "source": [
        "# Load the saved model\n",
        "model = UNet().to(device)\n",
        "if os.path.exists(model_path):\n",
        "    model.load_state_dict(torch.load(model_path))\n",
        "    model.eval()\n",
        "\n",
        "    # Evaluate the model on the test data\n",
        "    test_iou = 0.0\n",
        "    num_samples = 0\n",
        "\n",
        "    with torch.no_grad():\n",
        "        test_pbar = tqdm(enumerate(test_loader), total=len(test_loader), desc='Testing')\n",
        "        for batch_idx, (images, masks) in test_pbar:\n",
        "            images, masks = images.to(device), masks.to(device)\n",
        "            outputs = model(images)\n",
        "\n",
        "            # Resize masks to match the output size\n",
        "            masks = nn.functional.interpolate(masks, size=outputs.shape[2:], mode='nearest')\n",
        "\n",
        "            iou = calculate_iou(outputs, masks)\n",
        "            test_iou += iou * images.size(0)\n",
        "            num_samples += images.size(0)\n",
        "\n",
        "            test_pbar.set_postfix({'IoU': iou})\n",
        "\n",
        "    # Calculate average IoU over the test set\n",
        "    test_iou /= num_samples\n",
        "\n",
        "    print(f'Test IoU: {test_iou:.4f}')\n",
        "else:\n",
        "    print(\"Model file not found.\")"
      ]
    },
    {
      "cell_type": "markdown",
      "metadata": {
        "id": "svv1PHHUfewj"
      },
      "source": [
        "# 5. Write a 3-page report using LaTex and upload your paper to ResearchGate or Arxiv, and put your paper link here.\n"
      ]
    },
    {
      "cell_type": "markdown",
      "metadata": {
        "id": "1g5ujNGzfewj"
      },
      "source": [
        "Research Gate: https://www.researchgate.net/publication/387187054_A_Deep_Learning_Framework_for_Bird_Vocalization_Segmentation\n",
        "\n",
        "Github:https://github.com/priyadarshini-777/https-www.researchgA_Deep_Learning_Framework_for_Bird_Vocalization_Segmentation"
      ]
    },
    {
      "cell_type": "markdown",
      "metadata": {
        "id": "oiDfZgfIfewj"
      },
      "source": [
        "# 6. Grading rubric\n",
        "\n",
        "(1). Code ------- 20 points (you also need to upload your final model as a pt file, and add paper link)\n",
        "\n",
        "(2). Grammer ---- 20 points\n",
        "\n",
        "(3). Introduction & related work --- 10 points\n",
        "\n",
        "(4). Method  ---- 20 points\n",
        "\n",
        "(5). Results ---- 20 points\n",
        "\n",
        "     > = 0.6 -->10 points\n",
        "     < 0.5  --> 0 points\n",
        "     >= 0.5 & < 0.6  --> 1 point/0.01 higher\n",
        "     \n",
        "\n",
        "(6). Discussion - 10 points"
      ]
    },
    {
      "cell_type": "code",
      "execution_count": null,
      "metadata": {
        "id": "7vhEttVcfewj"
      },
      "outputs": [],
      "source": []
    }
  ],
  "metadata": {
    "accelerator": "GPU",
    "colab": {
      "gpuType": "A100",
      "machine_shape": "hm",
      "provenance": []
    },
    "kernelspec": {
      "display_name": "Python 3 (ipykernel)",
      "language": "python",
      "name": "python3"
    },
    "language_info": {
      "codemirror_mode": {
        "name": "ipython",
        "version": 3
      },
      "file_extension": ".py",
      "mimetype": "text/x-python",
      "name": "python",
      "nbconvert_exporter": "python",
      "pygments_lexer": "ipython3",
      "version": "3.11.7"
    }
  },
  "nbformat": 4,
  "nbformat_minor": 0
}